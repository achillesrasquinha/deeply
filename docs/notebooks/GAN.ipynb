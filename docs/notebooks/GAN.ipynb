{
 "cells": [
  {
   "cell_type": "code",
   "execution_count": 2,
   "id": "1b917072",
   "metadata": {},
   "outputs": [],
   "source": [
    "import tensorflow as tf\n",
    "\n",
    "import deeply\n",
    "import deeply.datasets as dd\n",
    "import deeply.plots as dp"
   ]
  },
  {
   "cell_type": "code",
   "execution_count": null,
   "id": "50e34b9c",
   "metadata": {},
   "outputs": [],
   "source": [
    "mnist, info = dd.load(\"mnist\", with_info = True, shuffle_files = True, as_supervised = True)"
   ]
  },
  {
   "cell_type": "code",
   "execution_count": null,
   "id": "4674dd91",
   "metadata": {},
   "outputs": [],
   "source": [
    "input_shape    = info.features['image'].shape\n",
    "x, y, channels = input_shape"
   ]
  },
  {
   "cell_type": "code",
   "execution_count": null,
   "id": "bcabedcf",
   "metadata": {},
   "outputs": [],
   "source": [
    "gan = deeply.hub(\"convolutional-generative-adversarial-network\", x = x, y = y, channels = channels)"
   ]
  },
  {
   "cell_type": "code",
   "execution_count": null,
   "id": "0746ab09",
   "metadata": {},
   "outputs": [],
   "source": [
    "def norm(image):\n",
    "    return tf.cast(image, tf.float32) / 255.0\n",
    "\n",
    "data = dd.concat((mnist[\"train\"], mnist[\"test\"]), mapper = lambda image, label: norm(image))"
   ]
  },
  {
   "cell_type": "code",
   "execution_count": null,
   "id": "4ab881c5",
   "metadata": {},
   "outputs": [],
   "source": [
    "def generate_random_sample(gan, n_samples):\n",
    "    generator = gan.generator\n",
    "    generator_input_shape = generator.input.shape\n",
    "    _, noise_dim = generator_input_shape\n",
    "    \n",
    "    random_sample = tf.random.normal([n_samples, noise_dim])\n",
    "    \n",
    "    return random_sample"
   ]
  },
  {
   "cell_type": "code",
   "execution_count": null,
   "id": "75e1940a",
   "metadata": {},
   "outputs": [],
   "source": [
    "batch_size   = 32\n",
    "epochs       = 30\n",
    "data_batched = data.batch(batch_size)"
   ]
  },
  {
   "cell_type": "code",
   "execution_count": null,
   "id": "81768ef6",
   "metadata": {
    "scrolled": true
   },
   "outputs": [],
   "source": [
    "history = gan.fit(data_batched, epochs = epochs)"
   ]
  },
  {
   "cell_type": "code",
   "execution_count": null,
   "id": "f92af0c8",
   "metadata": {},
   "outputs": [],
   "source": [
    "random_samples = generate_random_sample(gan, 16)"
   ]
  },
  {
   "cell_type": "code",
   "execution_count": null,
   "id": "dfb8277f",
   "metadata": {},
   "outputs": [],
   "source": [
    "predictions    = gan.generator(random_samples, training = False)"
   ]
  },
  {
   "cell_type": "code",
   "execution_count": null,
   "id": "0bfb7501",
   "metadata": {},
   "outputs": [],
   "source": [
    "dp.imgplot(predictions * 255)"
   ]
  },
  {
   "cell_type": "code",
   "execution_count": null,
   "id": "4110e498",
   "metadata": {},
   "outputs": [],
   "source": []
  }
 ],
 "metadata": {
  "kernelspec": {
   "display_name": "Python 3 (ipykernel)",
   "language": "python",
   "name": "python3"
  },
  "language_info": {
   "codemirror_mode": {
    "name": "ipython",
    "version": 3
   },
   "file_extension": ".py",
   "mimetype": "text/x-python",
   "name": "python",
   "nbconvert_exporter": "python",
   "pygments_lexer": "ipython3",
   "version": "3.9.13"
  }
 },
 "nbformat": 4,
 "nbformat_minor": 5
}
