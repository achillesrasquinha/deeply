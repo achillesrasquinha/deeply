{
 "cells": [
  {
   "cell_type": "markdown",
   "id": "883b6def",
   "metadata": {},
   "source": [
    "# variational-autoencoders"
   ]
  },
  {
   "cell_type": "markdown",
   "id": "4d06dd60",
   "metadata": {},
   "source": [
    "## usage"
   ]
  },
  {
   "cell_type": "code",
   "execution_count": 1,
   "id": "9184902d",
   "metadata": {
    "execution": {
     "iopub.execute_input": "2022-01-03T21:26:41.676268Z",
     "iopub.status.busy": "2022-01-03T21:26:41.668848Z",
     "iopub.status.idle": "2022-01-03T21:26:41.738547Z",
     "shell.execute_reply": "2022-01-03T21:26:41.738230Z"
    }
   },
   "outputs": [],
   "source": [
    "import deeply"
   ]
  }
 ],
 "metadata": {
  "kernelspec": {
   "display_name": "Python 3",
   "language": "python",
   "name": "python3"
  },
  "language_info": {
   "codemirror_mode": {
    "name": "ipython",
    "version": 3
   },
   "file_extension": ".py",
   "mimetype": "text/x-python",
   "name": "python",
   "nbconvert_exporter": "python",
   "pygments_lexer": "ipython3",
   "version": "3.8.9"
  }
 },
 "nbformat": 4,
 "nbformat_minor": 5
}
