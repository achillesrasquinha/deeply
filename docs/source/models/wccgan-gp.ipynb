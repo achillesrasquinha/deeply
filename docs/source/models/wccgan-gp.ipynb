{
 "cells": [
  {
   "cell_type": "markdown",
   "id": "3539db47",
   "metadata": {},
   "source": [
    "# Wasserstein Deep Convolutional Conditional Generative Adversarial Network (with Gradient Penalty) (WDCCGAN-GP)"
   ]
  },
  {
   "cell_type": "markdown",
   "id": "a4471ba2",
   "metadata": {},
   "source": [
    "A model skeleton for Wasserstein Deep Convolutional Generative Adversarial Networks (with Gradient Penalty) (WDCCGAN-GP)s. It was first introduced in the paper titled *[Improved Training of Wasserstein GANs](https://arxiv.org/abs/1704.00028)* by Ishaan Gulrajani, Faruk Ahmed, Martin Arjovsky, Vincent Dumoulin, Aaron Courville."
   ]
  },
  {
   "cell_type": "markdown",
   "id": "e7ad94ee",
   "metadata": {},
   "source": [
    "## usage"
   ]
  },
  {
   "cell_type": "code",
   "execution_count": null,
   "id": "6d0e7c2d",
   "metadata": {},
   "outputs": [],
   "source": [
    "import deeply\n",
    "import deeply.datasets as dd\n",
    "from deeply.transformers.scaler import image_scaler\n",
    "\n",
    "mnist, info = dd.load(\"mnist\", shuffle_files = True, as_supervised = True, with_info = True)\n",
    "image_shape = info.features[\"image\"].shape\n",
    "n_classes   = info.features[\"label\"].num_classes\n",
    "\n",
    "gan = deeply.hub(\"wdcgan-gp\", input_shape = image_shape, n_classes = n_classes,\n",
    "                 decoder_batch_norm = True, encoder_dropout_rate = 0.3,\n",
    "                 encoder_layer_growth_rate = 2, scaler = image_scaler,\n",
    "                 init_decoder_units = 256, decoder_layer_growth_rate = 0.5, kernel_size = 5,\n",
    "                 decoder_strides  = [1, 2], final_activation = \"tanh\")"
   ]
  },
  {
   "cell_type": "markdown",
   "id": "976cd6ac",
   "metadata": {},
   "source": [
    "## example"
   ]
  },
  {
   "cell_type": "code",
   "execution_count": null,
   "id": "9f1ae69c",
   "metadata": {
    "scrolled": false
   },
   "outputs": [],
   "source": [
    "import tensorflow as tf\n",
    "from deeply.plots import imgplot as imgplt, mplt\n",
    "\n",
    "from tqdm.auto import tqdm, trange\n",
    "\n",
    "def mapper(image, label):\n",
    "    return image_scaler.fit_transform(image), tf.one_hot(label, n_classes)\n",
    "\n",
    "config = dict(batch_size = 256,\n",
    "              epochs = 20)\n",
    "batch_size = config[\"batch_size\"]\n",
    "\n",
    "data   = mnist[\"train\"].map(mapper)\n",
    "batch  = data.batch(batch_size)"
   ]
  },
  {
   "cell_type": "code",
   "execution_count": null,
   "id": "8d21a745",
   "metadata": {
    "scrolled": false
   },
   "outputs": [],
   "source": [
    "from deeply.model.gan import save_img_samples\n",
    "\n",
    "samples = gan.get_random_latent_vector(shape = (batch_size, None))\n",
    "\n",
    "for e in trange(config[\"epochs\"]):\n",
    "    for b in tqdm(batch):\n",
    "        history = gan.fit(b, batch_size = batch_size, checkpoint_path = \"gan.h5d5\")\n",
    "    save_img_samples(gan, samples = samples, to_file = \"cgan.png\")"
   ]
  }
 ],
 "metadata": {
  "kernelspec": {
   "display_name": "Python 3 (ipykernel)",
   "language": "python",
   "name": "python3"
  },
  "language_info": {
   "codemirror_mode": {
    "name": "ipython",
    "version": 3
   },
   "file_extension": ".py",
   "mimetype": "text/x-python",
   "name": "python",
   "nbconvert_exporter": "python",
   "pygments_lexer": "ipython3",
   "version": "3.9.12"
  }
 },
 "nbformat": 4,
 "nbformat_minor": 5
}
