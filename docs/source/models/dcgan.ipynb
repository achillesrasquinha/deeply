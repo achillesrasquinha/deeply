{
 "cells": [
  {
   "cell_type": "markdown",
   "id": "3539db47",
   "metadata": {},
   "source": [
    "# Deep Convolutional Generative Adversarial Networks (DCGAN)"
   ]
  },
  {
   "cell_type": "markdown",
   "id": "a4471ba2",
   "metadata": {},
   "source": [
    "A model skeleton for Generative Adversarial Networks (GAN)s. It was first introduced in the paper titled *[Generative Adversarial Networks](https://arxiv.org/abs/1406.2661)* by Ian J. Goodfellow, Jean Pouget-Abadie, Mehdi Mirza, Bing Xu, David Warde-Farley, Sherjil Ozair, Aaron Courville, Yoshua Bengio."
   ]
  },
  {
   "cell_type": "markdown",
   "id": "bc037db5",
   "metadata": {},
   "source": [
    "> A generative adversarial network (GAN) is a class of machine learning frameworks designed by Ian Goodfellow and his colleagues in June 2014. Two neural networks contest with each other in a game (in the form of a zero-sum game, where one agent's gain is another agent's loss).\n",
    "\n",
    "> Given a training set, this technique learns to generate new data with the same statistics as the training set. For example, a GAN trained on photographs can generate new photographs that look at least superficially authentic to human observers, having many realistic characteristics. Though originally proposed as a form of generative model for unsupervised learning, GANs have also proved useful for semi-supervised learning, fully supervised learning, and reinforcement learning.\n",
    "\n",
    "> The core idea of a GAN is based on the \"indirect\" training through the discriminator, another neural network that can tell how \"realistic\" the input seems, which itself is also being updated dynamically. This means that the generator is not trained to minimize the distance to a specific image, but rather to fool the discriminator. This enables the model to learn in an unsupervised manner.\n",
    "\n",
    "> GANs are similar to mimicry in evolutionary biology, with an evolutionary arms race between both networks."
   ]
  },
  {
   "cell_type": "markdown",
   "id": "e7ad94ee",
   "metadata": {},
   "source": [
    "## usage"
   ]
  },
  {
   "cell_type": "code",
   "execution_count": 1,
   "id": "6d0e7c2d",
   "metadata": {
    "vscode": {
     "languageId": "python"
    }
   },
   "outputs": [
    {
     "name": "stderr",
     "output_type": "stream",
     "text": [
      "2022-09-26 12:46:11.262839: I tensorflow/core/platform/cpu_feature_guard.cc:193] This TensorFlow binary is optimized with oneAPI Deep Neural Network Library (oneDNN) to use the following CPU instructions in performance-critical operations:  AVX2 FMA\n",
      "To enable them in other operations, rebuild TensorFlow with the appropriate compiler flags.\n",
      "2022-09-26 12:46:14.193813: I tensorflow/core/platform/cpu_feature_guard.cc:193] This TensorFlow binary is optimized with oneAPI Deep Neural Network Library (oneDNN) to use the following CPU instructions in performance-critical operations:  AVX2 FMA\n",
      "To enable them in other operations, rebuild TensorFlow with the appropriate compiler flags.\n"
     ]
    }
   ],
   "source": [
    "import deeply\n",
    "import deeply.datasets as dd\n",
    "from deeply.transformers.scaler import image_scaler\n",
    "\n",
    "mnist, info = dd.load(\"mnist\", shuffle_files = True, as_supervised = True, with_info = True)\n",
    "image_shape = info.features[\"image\"].shape\n",
    "\n",
    "gan = deeply.hub(\"wdcgan-gp\", input_shape = image_shape, decoder_batch_norm = True, encoder_dropout_rate = 0.3,\n",
    "                 encoder_layer_growth_rate = 2, scaler = image_scaler,\n",
    "                 init_decoder_units = 256, decoder_layer_growth_rate = 0.5, kernel_size = 5,\n",
    "                 decoder_strides  = [1, 2], final_activation = \"tanh\")"
   ]
  },
  {
   "cell_type": "markdown",
   "id": "976cd6ac",
   "metadata": {},
   "source": [
    "## example"
   ]
  },
  {
   "cell_type": "code",
   "execution_count": 2,
   "id": "9f1ae69c",
   "metadata": {
    "scrolled": false,
    "vscode": {
     "languageId": "python"
    }
   },
   "outputs": [],
   "source": [
    "import tensorflow as tf\n",
    "from deeply.plots import imgplot as imgplt, mplt\n",
    "\n",
    "from tqdm.auto import tqdm, trange\n",
    "\n",
    "mapper = lambda image, label: image_scaler.fit_transform(image)\n",
    "\n",
    "config = dict(batch_size = 256,\n",
    "              epochs = 20)\n",
    "batch_size = config[\"batch_size\"]\n",
    "\n",
    "data   = mnist[\"train\"].map(mapper)\n",
    "batch  = data.batch(batch_size)"
   ]
  },
  {
   "cell_type": "code",
   "execution_count": null,
   "id": "d6310d39",
   "metadata": {
    "scrolled": false,
    "vscode": {
     "languageId": "python"
    }
   },
   "outputs": [
    {
     "data": {
      "application/json": {
       "ascii": false,
       "bar_format": null,
       "colour": null,
       "elapsed": 0.027887344360351562,
       "initial": 0,
       "n": 0,
       "ncols": null,
       "nrows": 13,
       "postfix": null,
       "prefix": "",
       "rate": null,
       "total": 20,
       "unit": "it",
       "unit_divisor": 1000,
       "unit_scale": false
      },
      "application/vnd.jupyter.widget-view+json": {
       "model_id": "46bbeb75cef64692be81a75e03c67cf7",
       "version_major": 2,
       "version_minor": 0
      },
      "text/plain": [
       "  0%|          | 0/20 [00:00<?, ?it/s]"
      ]
     },
     "metadata": {},
     "output_type": "display_data"
    },
    {
     "data": {
      "application/json": {
       "ascii": false,
       "bar_format": null,
       "colour": null,
       "elapsed": 0.06701111793518066,
       "initial": 0,
       "n": 0,
       "ncols": null,
       "nrows": 13,
       "postfix": null,
       "prefix": "",
       "rate": null,
       "total": 235,
       "unit": "it",
       "unit_divisor": 1000,
       "unit_scale": false
      },
      "application/vnd.jupyter.widget-view+json": {
       "model_id": "2d339602ac864f38966a452b654d0d00",
       "version_major": 2,
       "version_minor": 0
      },
      "text/plain": [
       "  0%|          | 0/235 [00:00<?, ?it/s]"
      ]
     },
     "metadata": {},
     "output_type": "display_data"
    },
    {
     "name": "stderr",
     "output_type": "stream",
     "text": [
      "/home/helikarlab/dev/deeply/src/deeply/plots.py:113: RuntimeWarning: More than 20 figures have been opened. Figures created through the pyplot interface (`matplotlib.pyplot.figure`) are retained until explicitly closed and may consume too much memory. (To control this warning, see the rcParam `figure.max_open_warning`).\n",
      "  fig, axes = mplt.subplots(n_plots, 1, sharex = True)\n"
     ]
    }
   ],
   "source": [
    "from deeply.model.gan import save_img_samples\n",
    "\n",
    "samples = gan.get_random_latent_vector(shape = (batch_size, None))\n",
    "\n",
    "for e in trange(config[\"epochs\"]):\n",
    "    for b in tqdm(batch):\n",
    "        history = gan.fit(b, batch_size = batch_size, checkpoint_path = \"gan.h5d5\")\n",
    "    save_img_samples(gan, samples = samples, to_file = \"gan.png\")"
   ]
  }
 ],
 "metadata": {
  "kernelspec": {
   "display_name": "Python 3 (ipykernel)",
   "language": "python",
   "name": "python3"
  },
  "language_info": {
   "codemirror_mode": {
    "name": "ipython",
    "version": 3
   },
   "file_extension": ".py",
   "mimetype": "text/x-python",
   "name": "python",
   "nbconvert_exporter": "python",
   "pygments_lexer": "ipython3",
   "version": "3.10.4"
  }
 },
 "nbformat": 4,
 "nbformat_minor": 5
}
