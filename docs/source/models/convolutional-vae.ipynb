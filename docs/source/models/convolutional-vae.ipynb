{
 "cells": [
  {
   "cell_type": "markdown",
   "id": "6312daad",
   "metadata": {},
   "source": [
    "# convolutional-variational-autoencoders"
   ]
  },
  {
   "cell_type": "markdown",
   "id": "ba0c701f",
   "metadata": {},
   "source": [
    "A model skeleton for Variational Auto-Encoders (VAE). It was first introduced in the paper titled *[Auto-Encoding Variational Bayes](https://arxiv.org/abs/1312.6114)* by Diederik P Kingma and Max Welling."
   ]
  },
  {
   "cell_type": "markdown",
   "id": "a6ddd815",
   "metadata": {},
   "source": [
    "> In machine learning, a variational autoencoder, also known as VAE, is the artificial neural network architecture belonging to the families of probabilistic graphical models and variational Bayesian methods.\n",
    "\n",
    "> It is often associated with the autoencoder model because of its architectural affinity, but there are significant differences both in the goal and in the mathematical formulation. Variational autoencoders are meant to compress the input information into a constrained multivariate latent distribution (encoding) to reconstruct it as accurately as possible (decoding). Although this type of model was initially designed for unsupervised learning, its effectiveness has been proven in other domains of machine learning such as semi-supervised learning or supervised learning. - *WikiPedia*"
   ]
  },
  {
   "cell_type": "markdown",
   "id": "1753d7e2",
   "metadata": {},
   "source": [
    "## usage"
   ]
  },
  {
   "cell_type": "code",
   "execution_count": null,
   "id": "af3b496b",
   "metadata": {
    "execution": {
     "iopub.execute_input": "2022-01-05T18:20:26.612225Z",
     "iopub.status.busy": "2022-01-05T18:20:26.611515Z",
     "iopub.status.idle": "2022-01-05T18:20:34.756399Z",
     "shell.execute_reply": "2022-01-05T18:20:34.756869Z"
    },
    "scrolled": false
   },
   "outputs": [],
   "source": [
    "import deeply\n",
    "\n",
    "vae = deeply.hub(\"convolutional-variational-autoencoder\", x = 28)"
   ]
  },
  {
   "cell_type": "markdown",
   "id": "66cae2a4",
   "metadata": {},
   "source": [
    "## example"
   ]
  },
  {
   "cell_type": "code",
   "execution_count": null,
   "id": "d022d78b",
   "metadata": {
    "execution": {
     "iopub.execute_input": "2022-01-05T18:20:34.763698Z",
     "iopub.status.busy": "2022-01-05T18:20:34.762485Z",
     "iopub.status.idle": "2022-01-05T18:20:35.855925Z",
     "shell.execute_reply": "2022-01-05T18:20:35.856400Z"
    },
    "scrolled": false
   },
   "outputs": [],
   "source": [
    "import tensorflow as tf\n",
    "import deeply.datasets as dd\n",
    "\n",
    "batch_size = 128\n",
    "epochs     = 30\n",
    "\n",
    "def normalize(image, label):\n",
    "    return tf.cast(image, tf.float32) / 255\n",
    "\n",
    "def preprocess_ds(ds):\n",
    "    return ds\\\n",
    "        .map(normalize)\\\n",
    "        .cache()\\\n",
    "        .shuffle(dd.length(ds))\\\n",
    "        .batch(batch_size)\\\n",
    "\n",
    "mnist = dd.load(\"mnist\", as_supervised = True)\n",
    "train = preprocess_ds(mnist[\"train\"])\n",
    "\n",
    "history = vae.fit(train, epochs = epochs, batch_size = batch_size, monitor = \"bernoulli_loss\")"
   ]
  }
 ],
 "metadata": {
  "kernelspec": {
   "display_name": "Python 3 (ipykernel)",
   "language": "python",
   "name": "python3"
  },
  "language_info": {
   "codemirror_mode": {
    "name": "ipython",
    "version": 3
   },
   "file_extension": ".py",
   "mimetype": "text/x-python",
   "name": "python",
   "nbconvert_exporter": "python",
   "pygments_lexer": "ipython3",
   "version": "3.9.9"
  }
 },
 "nbformat": 4,
 "nbformat_minor": 5
}
