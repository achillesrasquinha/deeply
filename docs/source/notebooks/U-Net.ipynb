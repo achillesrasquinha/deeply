{
 "cells": [
  {
   "cell_type": "markdown",
   "id": "84eacccb",
   "metadata": {},
   "source": [
    "# U-Net"
   ]
  },
  {
   "cell_type": "code",
   "execution_count": 1,
   "id": "08947fdb",
   "metadata": {},
   "outputs": [],
   "source": [
    "%load_ext autoreload\n",
    "%autoreload"
   ]
  },
  {
   "cell_type": "code",
   "execution_count": 2,
   "id": "1ef7e6a9",
   "metadata": {},
   "outputs": [
    {
     "ename": "ImportError",
     "evalue": "cannot import name 'history' from 'deeply.plots' (/Users/achilles/.venv/lib/python3.9/site-packages/deeply/plots.py)",
     "output_type": "error",
     "traceback": [
      "\u001b[0;31m---------------------------------------------------------------------------\u001b[0m",
      "\u001b[0;31mImportError\u001b[0m                               Traceback (most recent call last)",
      "\u001b[0;32m<ipython-input-2-728f4d987a5b>\u001b[0m in \u001b[0;36m<module>\u001b[0;34m\u001b[0m\n\u001b[1;32m      5\u001b[0m     \u001b[0mgenerate_toy\u001b[0m\u001b[0;34m\u001b[0m\u001b[0;34m\u001b[0m\u001b[0m\n\u001b[1;32m      6\u001b[0m )\n\u001b[0;32m----> 7\u001b[0;31m \u001b[0;32mfrom\u001b[0m \u001b[0mdeeply\u001b[0m\u001b[0;34m.\u001b[0m\u001b[0mplots\u001b[0m \u001b[0;32mimport\u001b[0m \u001b[0msegplot\u001b[0m\u001b[0;34m,\u001b[0m \u001b[0mhistory\u001b[0m \u001b[0;32mas\u001b[0m \u001b[0mhistory_plot\u001b[0m\u001b[0;34m\u001b[0m\u001b[0;34m\u001b[0m\u001b[0m\n\u001b[0m",
      "\u001b[0;31mImportError\u001b[0m: cannot import name 'history' from 'deeply.plots' (/Users/achilles/.venv/lib/python3.9/site-packages/deeply/plots.py)"
     ]
    }
   ],
   "source": [
    "from deeply.model.unet import (\n",
    "    UNet,\n",
    "    AttentionUNet,\n",
    "    Trainer,\n",
    "    generate_toy\n",
    ")\n",
    "from deeply.plots import segplot, history as history_plot"
   ]
  },
  {
   "cell_type": "code",
   "execution_count": null,
   "id": "d1b1973a",
   "metadata": {},
   "outputs": [],
   "source": [
    "width, height = (200, 200)"
   ]
  },
  {
   "cell_type": "code",
   "execution_count": null,
   "id": "152ed8b1",
   "metadata": {},
   "outputs": [],
   "source": [
    "train, val, test = generate_toy(x = width, y = height)"
   ]
  },
  {
   "cell_type": "markdown",
   "id": "4d5db405",
   "metadata": {},
   "source": [
    "#### Generate Samples"
   ]
  },
  {
   "cell_type": "code",
   "execution_count": null,
   "id": "4e36d5b9",
   "metadata": {},
   "outputs": [],
   "source": [
    "n_samples = 3\n",
    "samples   = train.take(n_samples)\n",
    "\n",
    "for image, mask in samples:\n",
    "    segplot(image, mask)"
   ]
  },
  {
   "cell_type": "code",
   "execution_count": null,
   "id": "97a91dee",
   "metadata": {},
   "outputs": [],
   "source": [
    "unet = UNet(x = width, y = height, n_classes = 1, layer_depth = 2, init_filters = 16, final_activation = \"sigmoid\", batch_norm = False)"
   ]
  },
  {
   "cell_type": "code",
   "execution_count": null,
   "id": "6b074cff",
   "metadata": {},
   "outputs": [],
   "source": [
    "unet.plot(show_shapes = True)"
   ]
  },
  {
   "cell_type": "code",
   "execution_count": null,
   "id": "a0df5f3b",
   "metadata": {},
   "outputs": [],
   "source": [
    "unet.compile(optimizer = \"adam\")"
   ]
  },
  {
   "cell_type": "code",
   "execution_count": null,
   "id": "ec64b02d",
   "metadata": {},
   "outputs": [],
   "source": [
    "batch_size = 1\n",
    "epochs     = 1"
   ]
  },
  {
   "cell_type": "code",
   "execution_count": null,
   "id": "08212e8b",
   "metadata": {
    "scrolled": false
   },
   "outputs": [],
   "source": [
    "trainer = Trainer()\n",
    "history = trainer.fit(unet, train, val = val, batch_size = batch_size, epochs = epochs)"
   ]
  },
  {
   "cell_type": "code",
   "execution_count": null,
   "id": "92ebaa87",
   "metadata": {},
   "outputs": [],
   "source": [
    "predicted = unet.predict(test.batch(batch_size))"
   ]
  },
  {
   "cell_type": "code",
   "execution_count": null,
   "id": "97622b3a",
   "metadata": {},
   "outputs": [],
   "source": [
    "for i, (image, mask) in enumerate(test.take(n_samples)):\n",
    "    segplot(image, mask, predicted[i])"
   ]
  },
  {
   "cell_type": "code",
   "execution_count": null,
   "id": "98c0ae0e",
   "metadata": {},
   "outputs": [],
   "source": [
    "history_plot(history)"
   ]
  }
 ],
 "metadata": {
  "kernelspec": {
   "display_name": "Python 3",
   "language": "python",
   "name": "python3"
  },
  "language_info": {
   "codemirror_mode": {
    "name": "ipython",
    "version": 3
   },
   "file_extension": ".py",
   "mimetype": "text/x-python",
   "name": "python",
   "nbconvert_exporter": "python",
   "pygments_lexer": "ipython3",
   "version": "3.9.5"
  }
 },
 "nbformat": 4,
 "nbformat_minor": 5
}
