{
 "cells": [
  {
   "cell_type": "code",
   "execution_count": null,
   "id": "93295719",
   "metadata": {},
   "outputs": [],
   "source": [
    "import deeply.datasets as dd"
   ]
  },
  {
   "cell_type": "code",
   "execution_count": null,
   "id": "d001e67f",
   "metadata": {},
   "outputs": [],
   "source": [
    "hyper_kvasir, info = dd.load(\"hyper_kvasir_segmented\", with_info = True)"
   ]
  }
 ],
 "metadata": {
  "kernelspec": {
   "display_name": "Python 3 (ipykernel)",
   "language": "python",
   "name": "python3"
  },
  "language_info": {
   "codemirror_mode": {
    "name": "ipython",
    "version": 3
   },
   "file_extension": ".py",
   "mimetype": "text/x-python",
   "name": "python",
   "nbconvert_exporter": "python",
   "pygments_lexer": "ipython3",
   "version": "3.9.5"
  }
 },
 "nbformat": 4,
 "nbformat_minor": 5
}
