{
 "cells": [
  {
   "cell_type": "markdown",
   "id": "562a9f34",
   "metadata": {},
   "source": [
    "# Datasets"
   ]
  },
  {
   "cell_type": "code",
   "execution_count": 1,
   "id": "5c986d1b",
   "metadata": {},
   "outputs": [],
   "source": [
    "import deeply.datasets as dd"
   ]
  },
  {
   "cell_type": "markdown",
   "id": "5e786ab0",
   "metadata": {},
   "source": [
    "#### Montgomery County X-Ray Dataset"
   ]
  },
  {
   "cell_type": "code",
   "execution_count": null,
   "id": "f14d59f6",
   "metadata": {},
   "outputs": [
    {
     "name": "stdout",
     "output_type": "stream",
     "text": [
      "\u001b[1mDownloading and preparing dataset Unknown size (download: Unknown size, generated: Unknown size, total: Unknown size) to /Users/achilles/tensorflow_datasets/montgomery/1.0.0...\u001b[0m\n"
     ]
    },
    {
     "data": {
      "application/vnd.jupyter.widget-view+json": {
       "model_id": "924a8bcbef48499ba2de1b92cee6558d",
       "version_major": 2,
       "version_minor": 0
      },
      "text/plain": [
       "Dl Completed...: 0 url [00:00, ? url/s]"
      ]
     },
     "metadata": {},
     "output_type": "display_data"
    },
    {
     "data": {
      "application/vnd.jupyter.widget-view+json": {
       "model_id": "698aea109c844536b6245d0afd001fd2",
       "version_major": 2,
       "version_minor": 0
      },
      "text/plain": [
       "Dl Size...: 0 MiB [00:00, ? MiB/s]"
      ]
     },
     "metadata": {},
     "output_type": "display_data"
    },
    {
     "data": {
      "application/vnd.jupyter.widget-view+json": {
       "model_id": "d3d1b23fc7ee45af85624e7f7f025d40",
       "version_major": 2,
       "version_minor": 0
      },
      "text/plain": [
       "Extraction completed...: 0 file [00:00, ? file/s]"
      ]
     },
     "metadata": {},
     "output_type": "display_data"
    }
   ],
   "source": [
    "montgomery, info = dd.load(\"montgomery\", with_info = True)"
   ]
  },
  {
   "cell_type": "markdown",
   "id": "f538ad5e",
   "metadata": {},
   "source": [
    "#### Shenzhen Hospital X-Ray Dataset"
   ]
  },
  {
   "cell_type": "code",
   "execution_count": null,
   "id": "ba8a5a90",
   "metadata": {},
   "outputs": [],
   "source": [
    "shenzhen, info = dd.load(\"shenzhen\", with_info = True)"
   ]
  },
  {
   "cell_type": "code",
   "execution_count": null,
   "id": "f6a485f2",
   "metadata": {},
   "outputs": [],
   "source": []
  }
 ],
 "metadata": {
  "kernelspec": {
   "display_name": "Python 3",
   "language": "python",
   "name": "python3"
  },
  "language_info": {
   "codemirror_mode": {
    "name": "ipython",
    "version": 3
   },
   "file_extension": ".py",
   "mimetype": "text/x-python",
   "name": "python",
   "nbconvert_exporter": "python",
   "pygments_lexer": "ipython3",
   "version": "3.9.5"
  }
 },
 "nbformat": 4,
 "nbformat_minor": 5
}
