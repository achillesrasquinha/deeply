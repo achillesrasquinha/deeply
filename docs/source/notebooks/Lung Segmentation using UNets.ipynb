{
 "cells": [
  {
   "cell_type": "markdown",
   "id": "7fd3aaeb",
   "metadata": {},
   "source": [
    "### Load Dataset"
   ]
  },
  {
   "cell_type": "code",
   "execution_count": null,
   "id": "9ee634a9",
   "metadata": {},
   "outputs": [],
   "source": [
    "import deeply.datasets as dd"
   ]
  },
  {
   "cell_type": "code",
   "execution_count": null,
   "id": "79423d85",
   "metadata": {},
   "outputs": [],
   "source": [
    "montgomery = dd.load(\"montgomery\")"
   ]
  },
  {
   "cell_type": "code",
   "execution_count": null,
   "id": "ea71dd9b",
   "metadata": {},
   "outputs": [],
   "source": [
    "shenzhen   = dd.load(\"shenzhen\")"
   ]
  },
  {
   "cell_type": "markdown",
   "id": "c517fa51",
   "metadata": {},
   "source": [
    "### Prepare Data"
   ]
  },
  {
   "cell_type": "code",
   "execution_count": null,
   "id": "d7fcf190",
   "metadata": {},
   "outputs": [],
   "source": [
    "import os, os.path as osp\n",
    "import tqdm.notebook as tq\n",
    "import random\n",
    "\n",
    "import numpy as np\n",
    "import imgaug.augmenters as iaa\n",
    "import imageio\n",
    "\n",
    "import matplotlib.pyplot as pplt\n",
    "\n",
    "from deeply.util.system import remove, makedirs\n",
    "from deeply.util.string import get_random_str"
   ]
  },
  {
   "cell_type": "code",
   "execution_count": null,
   "id": "a9c286b6",
   "metadata": {},
   "outputs": [],
   "source": [
    "size_image = (512, 512, 1)"
   ]
  },
  {
   "cell_type": "code",
   "execution_count": null,
   "id": "c059133d",
   "metadata": {},
   "outputs": [],
   "source": [
    "dir_base   = \"data\"\n",
    "dir_images = osp.join(dir_base, \"images\")\n",
    "dir_masks  = osp.join(dir_base, \"masks\")"
   ]
  },
  {
   "cell_type": "code",
   "execution_count": null,
   "id": "476adeff",
   "metadata": {},
   "outputs": [],
   "source": [
    "sequential = iaa.Sequential([\n",
    "    iaa.Resize({ \"width\": size_image[0], \"height\": size_image[1] }),\n",
    "#     iaa.CLAHE()\n",
    "])"
   ]
  },
  {
   "cell_type": "code",
   "execution_count": null,
   "id": "00ecc33a",
   "metadata": {},
   "outputs": [],
   "source": [
    "if osp.exists(dir_base):\n",
    "    remove(dir_base, recursive = True)\n",
    "\n",
    "makedirs(dir_images, exist_ok = True)\n",
    "makedirs(dir_masks,  exist_ok = True)\n",
    "\n",
    "for batch in tq.tqdm(montgomery[\"train\"].batch(1)):\n",
    "    image = sequential(images = np.asarray(batch[\"image\"]))\n",
    "    mask  = sequential(images = np.asarray(batch[\"mask\"]))\n",
    "    \n",
    "    for i, _ in enumerate(image):\n",
    "        name = \"%s.jpg\" % get_random_str()\n",
    "        \n",
    "        imageio.imwrite(osp.join(dir_images, name), image[i])\n",
    "        imageio.imwrite(osp.join(dir_masks,  name), mask[i])"
   ]
  },
  {
   "cell_type": "markdown",
   "id": "e15c77e6",
   "metadata": {},
   "source": [
    "### Build Model"
   ]
  },
  {
   "cell_type": "code",
   "execution_count": null,
   "id": "54cb2d0c",
   "metadata": {},
   "outputs": [],
   "source": [
    "batch_size = 1\n",
    "n_classes  = 1"
   ]
  },
  {
   "cell_type": "code",
   "execution_count": null,
   "id": "0c275ba2",
   "metadata": {},
   "outputs": [],
   "source": [
    "%load_ext autoreload\n",
    "%autoreload"
   ]
  },
  {
   "cell_type": "code",
   "execution_count": null,
   "id": "05a4f79d",
   "metadata": {},
   "outputs": [],
   "source": [
    "from deeply.model.unet import UNet\n",
    "from deeply.generators import ImageMaskGenerator\n",
    "from deeply.losses     import dice_loss"
   ]
  },
  {
   "cell_type": "code",
   "execution_count": null,
   "id": "9474125d",
   "metadata": {},
   "outputs": [],
   "source": [
    "unet = UNet(\n",
    "    x = size_image[0],\n",
    "    y = size_image[1],\n",
    "    channels  = size_image[2],\n",
    "    n_classes = n_classes\n",
    "#     dropout_rate = 0\n",
    ")"
   ]
  },
  {
   "cell_type": "code",
   "execution_count": null,
   "id": "d29e9686",
   "metadata": {},
   "outputs": [],
   "source": [
    "unet_img_out_shape = unet.output_shape[1:-1]"
   ]
  },
  {
   "cell_type": "code",
   "execution_count": null,
   "id": "f8ccf0ef",
   "metadata": {},
   "outputs": [],
   "source": [
    "unet.compile(loss = dice_loss, metrics = [\"accuracy\"])"
   ]
  },
  {
   "cell_type": "code",
   "execution_count": null,
   "id": "1561056b",
   "metadata": {},
   "outputs": [],
   "source": [
    "generator = ImageMaskGenerator(dir_images, dir_masks, mode = \"grayscale\",\n",
    "                               image_size = size_image[0:2],\n",
    "                               mask_size  = unet_img_out_shape, batch_size = batch_size)"
   ]
  },
  {
   "cell_type": "code",
   "execution_count": null,
   "id": "f753ab41",
   "metadata": {
    "scrolled": false
   },
   "outputs": [],
   "source": [
    "unet.plot(show_shapes = True)"
   ]
  },
  {
   "cell_type": "code",
   "execution_count": null,
   "id": "97d3756b",
   "metadata": {},
   "outputs": [],
   "source": [
    "unet.fit(generator, batch_size = batch_size, verbose = 2)"
   ]
  }
 ],
 "metadata": {
  "kernelspec": {
   "display_name": "Python 3",
   "language": "python",
   "name": "python3"
  },
  "language_info": {
   "codemirror_mode": {
    "name": "ipython",
    "version": 3
   },
   "file_extension": ".py",
   "mimetype": "text/x-python",
   "name": "python",
   "nbconvert_exporter": "python",
   "pygments_lexer": "ipython3",
   "version": "3.9.5"
  }
 },
 "nbformat": 4,
 "nbformat_minor": 5
}
