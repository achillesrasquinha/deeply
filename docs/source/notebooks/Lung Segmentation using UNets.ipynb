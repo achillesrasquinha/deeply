{
 "cells": [
  {
   "cell_type": "markdown",
   "id": "5e940ed8",
   "metadata": {},
   "source": [
    "## Lung Segmentation using UNets"
   ]
  },
  {
   "cell_type": "code",
   "execution_count": null,
   "id": "7c6cc1b5",
   "metadata": {},
   "outputs": [],
   "source": [
    "%load_ext autoreload\n",
    "%autoreload"
   ]
  },
  {
   "cell_type": "code",
   "execution_count": null,
   "id": "653b6c33",
   "metadata": {},
   "outputs": [],
   "source": [
    "from deeply.model.unet import (\n",
    "    UNet,\n",
    "    Trainer\n",
    ")\n",
    "from deeply.plots import segplot\n",
    "from deeply.datasets.util import split as split_dataset\n",
    "\n",
    "import deeply.datasets as dd"
   ]
  },
  {
   "cell_type": "markdown",
   "id": "0612a8d4",
   "metadata": {},
   "source": [
    "#### Prepare Dataset"
   ]
  },
  {
   "cell_type": "code",
   "execution_count": null,
   "id": "aa84caaf",
   "metadata": {},
   "outputs": [],
   "source": [
    "names    = (\"montgomery\",)\n",
    "datasets = { }\n",
    "\n",
    "for name in names:\n",
    "    datasets[name] = split_dataset(dd.load(name, shuffle_files = True)[\"data\"])"
   ]
  },
  {
   "cell_type": "code",
   "execution_count": null,
   "id": "83633557",
   "metadata": {},
   "outputs": [],
   "source": [
    "train, val, test = datasets[\"montgomery\"]"
   ]
  },
  {
   "cell_type": "markdown",
   "id": "a2ebbfd5",
   "metadata": {},
   "source": [
    "#### Show Samples"
   ]
  },
  {
   "cell_type": "code",
   "execution_count": null,
   "id": "3297c6c8",
   "metadata": {},
   "outputs": [],
   "source": [
    "n_samples = 3\n",
    "\n",
    "for data in train.take(n_samples):\n",
    "    segplot(data[\"image\"], data[\"mask\"])"
   ]
  },
  {
   "cell_type": "code",
   "execution_count": null,
   "id": "ecf1489e",
   "metadata": {},
   "outputs": [],
   "source": [
    "width, height = (512, 512)"
   ]
  },
  {
   "cell_type": "markdown",
   "id": "e2b1e0a8",
   "metadata": {},
   "source": [
    "#### Build Model"
   ]
  },
  {
   "cell_type": "code",
   "execution_count": null,
   "id": "9b70d643",
   "metadata": {},
   "outputs": [],
   "source": [
    "unet = UNet(x = width, y = height, n_classes = 1, batch_norm = False, final_activation = \"sigmoid\")"
   ]
  },
  {
   "cell_type": "code",
   "execution_count": null,
   "id": "7447264f",
   "metadata": {
    "scrolled": false
   },
   "outputs": [],
   "source": [
    "unet.plot()"
   ]
  },
  {
   "cell_type": "code",
   "execution_count": null,
   "id": "e9dbe71e",
   "metadata": {},
   "outputs": [],
   "source": [
    "from tensorflow.keras.optimizers import Adam\n",
    "\n",
    "from deeply.metrics import dice_coefficient\n",
    "\n",
    "def dice_loss(*args, **kwargs):\n",
    "    return -dice_coefficient(*args, **kwargs)"
   ]
  },
  {
   "cell_type": "code",
   "execution_count": null,
   "id": "1812a8c6",
   "metadata": {},
   "outputs": [],
   "source": [
    "unet.compile(optimizer = Adam(learning_rate = 1e-5), loss = dice_loss, metrics = [\"binary_accuracy\"])"
   ]
  },
  {
   "cell_type": "code",
   "execution_count": null,
   "id": "1024ad65",
   "metadata": {},
   "outputs": [],
   "source": [
    "batch_size = 1\n",
    "epochs = 50"
   ]
  },
  {
   "cell_type": "markdown",
   "id": "e952524b",
   "metadata": {},
   "source": [
    "#### Preprocess Data"
   ]
  },
  {
   "cell_type": "code",
   "execution_count": null,
   "id": "5faf348e",
   "metadata": {},
   "outputs": [],
   "source": [
    "import numpy as np\n",
    "import tensorflow as tf\n",
    "import imgaug.augmenters as iaa\n",
    "\n",
    "from deeply.util.array import squash"
   ]
  },
  {
   "cell_type": "code",
   "execution_count": null,
   "id": "811bb9c3",
   "metadata": {},
   "outputs": [],
   "source": [
    "augmentor = iaa.Sequential([\n",
    "    iaa.Resize({ \"width\": width, \"height\": height })\n",
    "])\n",
    "\n",
    "grayscale = tf.image.rgb_to_grayscale\n",
    "from_, to = (0, 1, 2), (1, 0, 2)\n",
    "\n",
    "def augment(image):\n",
    "    image     = image.numpy()\n",
    "    \n",
    "    image     = np.moveaxis(image, from_, to)\n",
    "    augmented = augmentor(images = [image])\n",
    "    augmented = squash(augmented)\n",
    "    \n",
    "    augmented = np.moveaxis(augmented, to, from_)\n",
    "    \n",
    "    return augmented\n",
    "    \n",
    "def mapper(ds):\n",
    "    image, mask = ds[\"image\"], ds[\"mask\"]\n",
    "    image, mask = grayscale(image), grayscale(mask)\n",
    "    \n",
    "    feature = tf.py_function(augment, [image], image.dtype)\n",
    "    mask    = tf.py_function(augment, [mask],  mask.dtype)\n",
    "    \n",
    "    return feature, mask"
   ]
  },
  {
   "cell_type": "code",
   "execution_count": null,
   "id": "eb8f7fda",
   "metadata": {
    "scrolled": false
   },
   "outputs": [],
   "source": [
    "trainer = Trainer()\n",
    "history = trainer.fit(unet, train, val = val, batch_size = batch_size, epochs = 1, mapper = mapper)"
   ]
  },
  {
   "cell_type": "code",
   "execution_count": null,
   "id": "03a8de31",
   "metadata": {},
   "outputs": [],
   "source": [
    "expected = test.map(mapper)\n",
    "predict  = unet.predict(expected.batch(batch_size))"
   ]
  },
  {
   "cell_type": "code",
   "execution_count": null,
   "id": "0c00544f",
   "metadata": {},
   "outputs": [],
   "source": [
    "for i, (image, mask) in enumerate(expected.take(n_samples)):\n",
    "    segplot(image, mask, predict[i])"
   ]
  }
 ],
 "metadata": {
  "kernelspec": {
   "display_name": "Python 3",
   "language": "python",
   "name": "python3"
  },
  "language_info": {
   "codemirror_mode": {
    "name": "ipython",
    "version": 3
   },
   "file_extension": ".py",
   "mimetype": "text/x-python",
   "name": "python",
   "nbconvert_exporter": "python",
   "pygments_lexer": "ipython3",
   "version": "3.9.5"
  }
 },
 "nbformat": 4,
 "nbformat_minor": 5
}
