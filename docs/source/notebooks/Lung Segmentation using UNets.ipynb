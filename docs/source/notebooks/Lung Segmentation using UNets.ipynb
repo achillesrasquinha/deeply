{
 "cells": [
  {
   "cell_type": "markdown",
   "id": "5e940ed8",
   "metadata": {},
   "source": [
    "## Lung Segmentation using UNets"
   ]
  },
  {
   "cell_type": "code",
   "execution_count": null,
   "id": "7c6cc1b5",
   "metadata": {},
   "outputs": [],
   "source": [
    "%load_ext autoreload\n",
    "%autoreload"
   ]
  },
  {
   "cell_type": "code",
   "execution_count": null,
   "id": "653b6c33",
   "metadata": {},
   "outputs": [],
   "source": [
    "import os, os.path as osp\n",
    "\n",
    "import imgaug.augmenters as iaa\n",
    "\n",
    "from deeply.model.unet import (\n",
    "    UNet,\n",
    "    Trainer\n",
    ")\n",
    "from deeply.plots import segplot, history_plot\n",
    "from deeply.datasets.util import split as split_dataset\n",
    "from deeply.generators import ImageMaskGenerator\n",
    "\n",
    "from deeply.util.system import makedirs\n",
    "\n",
    "from deeply.util.image  import augment as augment_images\n",
    "\n",
    "from deeply._compat import iteritems\n",
    "\n",
    "import deeply.datasets as dd\n",
    "\n",
    "import tqdm.notebook as tq"
   ]
  },
  {
   "cell_type": "markdown",
   "id": "50dd6e2c",
   "metadata": {},
   "source": [
    "#### Constants"
   ]
  },
  {
   "cell_type": "code",
   "execution_count": null,
   "id": "8a3f0425",
   "metadata": {},
   "outputs": [],
   "source": [
    "image_size    = (256, 256)\n",
    "width, height = image_size\n",
    "batch_size = 1\n",
    "\n",
    "split_types = (\"train\", \"val\", \"test\")"
   ]
  },
  {
   "cell_type": "markdown",
   "id": "e2b1e0a8",
   "metadata": {},
   "source": [
    "#### Build Model"
   ]
  },
  {
   "cell_type": "code",
   "execution_count": null,
   "id": "9b70d643",
   "metadata": {},
   "outputs": [],
   "source": [
    "unet = UNet(x = width, y = height, n_classes = 1, final_activation = \"sigmoid\",\n",
    "            batch_norm = False, padding = \"same\")"
   ]
  },
  {
   "cell_type": "code",
   "execution_count": null,
   "id": "7447264f",
   "metadata": {
    "scrolled": false
   },
   "outputs": [],
   "source": [
    "unet.plot()"
   ]
  },
  {
   "cell_type": "code",
   "execution_count": null,
   "id": "79765a1a",
   "metadata": {},
   "outputs": [],
   "source": [
    "output_shape = unet.output_shape[1:-1]"
   ]
  },
  {
   "cell_type": "markdown",
   "id": "0612a8d4",
   "metadata": {},
   "source": [
    "#### Prepare Dataset"
   ]
  },
  {
   "cell_type": "code",
   "execution_count": null,
   "id": "d76240d3",
   "metadata": {},
   "outputs": [],
   "source": [
    "!rm -rf ./data"
   ]
  },
  {
   "cell_type": "code",
   "execution_count": null,
   "id": "aa84caaf",
   "metadata": {
    "scrolled": true
   },
   "outputs": [],
   "source": [
    "names   = (\"montgomery\",)\n",
    "\n",
    "image_augmentor = iaa.Sequential([\n",
    "    iaa.Resize({ \"width\": width, \"height\": height }),\n",
    "    iaa.CLAHE(\n",
    "        from_colorspace = iaa.CLAHE.RGB,\n",
    "        to_colorspace   = iaa.CLAHE.HSV\n",
    "    )\n",
    "])\n",
    "\n",
    "mask_augmentor  = iaa.Sequential([\n",
    "    iaa.Resize({ \"width\": output_shape[0], \"height\": output_shape[1] })\n",
    "])\n",
    "\n",
    "for name in names:\n",
    "    dataset = split_dataset(dd.load(name, shuffle_files = True)[\"data\"])\n",
    "    groups  = dict(zip(split_types, dataset))\n",
    "    \n",
    "    for split_type, split in iteritems(groups):\n",
    "        print(\"Generating %s images...\" % split_type)\n",
    "        \n",
    "        dir_name = osp.join(\"data\", split_type)\n",
    "        makedirs(dir_name, exist_ok = True)\n",
    "\n",
    "        for i, data in enumerate(tq.tqdm(split.batch(1))):\n",
    "            augment_images(image_augmentor, images = data[\"image\"].numpy(), filename = osp.join(dir_name, \"images\", \"%s.jpg\" % i))\n",
    "            augment_images(mask_augmentor,  images = data[\"mask\"].numpy(),  filename = osp.join(dir_name, \"masks\",  \"%s.jpg\" % i))"
   ]
  },
  {
   "cell_type": "code",
   "execution_count": null,
   "id": "705b6340",
   "metadata": {},
   "outputs": [],
   "source": [
    "args = dict(batch_size = batch_size, color_mode = \"grayscale\", image_size = image_size, mask_size = output_shape, shuffle = True)\n",
    "train, val, test = [ImageMaskGenerator(\"data/%s/images\" % type_, \"data/%s/masks\" % type_, **args) for type_ in split_types]"
   ]
  },
  {
   "cell_type": "markdown",
   "id": "a2ebbfd5",
   "metadata": {},
   "source": [
    "#### Show Samples"
   ]
  },
  {
   "cell_type": "code",
   "execution_count": null,
   "id": "06ca54a8",
   "metadata": {},
   "outputs": [],
   "source": [
    "from itertools import islice"
   ]
  },
  {
   "cell_type": "code",
   "execution_count": null,
   "id": "1d9cb219",
   "metadata": {},
   "outputs": [],
   "source": [
    "n_samples = 3"
   ]
  },
  {
   "cell_type": "code",
   "execution_count": null,
   "id": "9b9d15ef",
   "metadata": {},
   "outputs": [],
   "source": [
    "samples = islice(test, n_samples)"
   ]
  },
  {
   "cell_type": "code",
   "execution_count": null,
   "id": "3297c6c8",
   "metadata": {},
   "outputs": [],
   "source": [
    "for image, mask in samples:\n",
    "    segplot(image[0], mask[0])"
   ]
  },
  {
   "cell_type": "code",
   "execution_count": null,
   "id": "e9dbe71e",
   "metadata": {},
   "outputs": [],
   "source": [
    "from tensorflow.keras.optimizers import Adam\n",
    "\n",
    "from deeply.losses import dice_loss"
   ]
  },
  {
   "cell_type": "code",
   "execution_count": null,
   "id": "1812a8c6",
   "metadata": {},
   "outputs": [],
   "source": [
    "unet.compile(optimizer = Adam(learning_rate = 1e-5), loss = dice_loss, metrics = [\"binary_accuracy\"])"
   ]
  },
  {
   "cell_type": "code",
   "execution_count": null,
   "id": "1024ad65",
   "metadata": {},
   "outputs": [],
   "source": [
    "epochs = 10"
   ]
  },
  {
   "cell_type": "markdown",
   "id": "e952524b",
   "metadata": {},
   "source": [
    "#### Preprocess Data"
   ]
  },
  {
   "cell_type": "code",
   "execution_count": null,
   "id": "eb8f7fda",
   "metadata": {
    "scrolled": false
   },
   "outputs": [],
   "source": [
    "trainer = Trainer()\n",
    "history = trainer.fit(unet, train, val = val, epochs = epochs)"
   ]
  },
  {
   "cell_type": "code",
   "execution_count": null,
   "id": "5710c26a",
   "metadata": {},
   "outputs": [],
   "source": [
    "history_plot(history)"
   ]
  },
  {
   "cell_type": "code",
   "execution_count": null,
   "id": "03a8de31",
   "metadata": {},
   "outputs": [],
   "source": [
    "predict = unet.predict(test)"
   ]
  }
 ],
 "metadata": {
  "kernelspec": {
   "display_name": "Python 3",
   "language": "python",
   "name": "python3"
  },
  "language_info": {
   "codemirror_mode": {
    "name": "ipython",
    "version": 3
   },
   "file_extension": ".py",
   "mimetype": "text/x-python",
   "name": "python",
   "nbconvert_exporter": "python",
   "pygments_lexer": "ipython3",
   "version": "3.9.5"
  }
 },
 "nbformat": 4,
 "nbformat_minor": 5
}
