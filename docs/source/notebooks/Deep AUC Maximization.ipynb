{
 "cells": [
  {
   "cell_type": "code",
   "execution_count": 1,
   "id": "0cb9eab9",
   "metadata": {},
   "outputs": [],
   "source": [
    "%load_ext autoreload\n",
    "%autoreload"
   ]
  },
  {
   "cell_type": "markdown",
   "id": "0f49f60c",
   "metadata": {},
   "source": [
    "#### Prepare Dataset"
   ]
  },
  {
   "cell_type": "code",
   "execution_count": 2,
   "id": "cc70b635",
   "metadata": {},
   "outputs": [],
   "source": [
    "import deeply.datasets as dd\n",
    "from   deeply.datasets.util import split as split_dataset"
   ]
  },
  {
   "cell_type": "code",
   "execution_count": 3,
   "id": "2cf4b8b6",
   "metadata": {},
   "outputs": [],
   "source": [
    "from deeply.generators import DatasetGenerator"
   ]
  },
  {
   "cell_type": "code",
   "execution_count": 4,
   "id": "19e37af6",
   "metadata": {},
   "outputs": [],
   "source": [
    "cifar10 = dd.load(\"cifar10\")"
   ]
  },
  {
   "cell_type": "code",
   "execution_count": 5,
   "id": "a4611044",
   "metadata": {},
   "outputs": [],
   "source": [
    "def mapper(ds):\n",
    "    return ds[\"image\"], ds[\"label\"]"
   ]
  },
  {
   "cell_type": "code",
   "execution_count": 6,
   "id": "68ed48e1",
   "metadata": {},
   "outputs": [],
   "source": [
    "train, val = list(map(lambda x: DatasetGenerator(x, mapper = mapper),\n",
    "                                                 split_dataset(cifar10[\"train\"], splits = (0.7, 0.3))))\n",
    "test = DatasetGenerator(cifar10[\"test\"], mapper = mapper)"
   ]
  },
  {
   "cell_type": "markdown",
   "id": "29472521",
   "metadata": {},
   "source": [
    "#### Build Model"
   ]
  },
  {
   "cell_type": "code",
   "execution_count": 7,
   "id": "1c15336a",
   "metadata": {},
   "outputs": [],
   "source": [
    "from deeply.model.dam import DAM"
   ]
  },
  {
   "cell_type": "code",
   "execution_count": 9,
   "id": "6a2ae03a",
   "metadata": {},
   "outputs": [],
   "source": [
    "# dam = DAM()"
   ]
  },
  {
   "cell_type": "code",
   "execution_count": 10,
   "id": "e3d1f3dc",
   "metadata": {},
   "outputs": [],
   "source": [
    "# dam.compile()"
   ]
  },
  {
   "cell_type": "code",
   "execution_count": 11,
   "id": "ada71884",
   "metadata": {
    "scrolled": false
   },
   "outputs": [],
   "source": [
    "# dam.fit(train, validation_data = val, verbose = 2)"
   ]
  }
 ],
 "metadata": {
  "kernelspec": {
   "display_name": "Python 3",
   "language": "python",
   "name": "python3"
  },
  "language_info": {
   "codemirror_mode": {
    "name": "ipython",
    "version": 3
   },
   "file_extension": ".py",
   "mimetype": "text/x-python",
   "name": "python",
   "nbconvert_exporter": "python",
   "pygments_lexer": "ipython3",
   "version": "3.9.5"
  }
 },
 "nbformat": 4,
 "nbformat_minor": 5
}
