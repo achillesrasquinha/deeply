{
 "cells": [
  {
   "cell_type": "code",
   "execution_count": null,
   "id": "0cb9eab9",
   "metadata": {},
   "outputs": [],
   "source": [
    "%load_ext autoreload\n",
    "%autoreload"
   ]
  },
  {
   "cell_type": "markdown",
   "id": "0f49f60c",
   "metadata": {},
   "source": [
    "#### Prepare Dataset"
   ]
  },
  {
   "cell_type": "code",
   "execution_count": null,
   "id": "cc70b635",
   "metadata": {},
   "outputs": [],
   "source": [
    "import tensorflow as tf\n",
    "import tensorflow_datasets as tfds\n",
    "\n",
    "import deeply.datasets as dd\n",
    "from deeply.datasets.util import split as split_dataset\n",
    "from deeply.generators import DatasetGenerator"
   ]
  },
  {
   "cell_type": "code",
   "execution_count": null,
   "id": "19e37af6",
   "metadata": {},
   "outputs": [],
   "source": [
    "cifar10, info = dd.load(\"cifar10\", with_info = True, shuffle_files = True, as_supervised = True)"
   ]
  },
  {
   "cell_type": "code",
   "execution_count": null,
   "id": "f90cf6e7",
   "metadata": {},
   "outputs": [],
   "source": [
    "info"
   ]
  },
  {
   "cell_type": "code",
   "execution_count": null,
   "id": "173459ea",
   "metadata": {
    "scrolled": false
   },
   "outputs": [],
   "source": [
    "tfds.show_examples(cifar10[\"train\"].take(3), ds_info = info)"
   ]
  },
  {
   "cell_type": "code",
   "execution_count": null,
   "id": "b2060bea",
   "metadata": {},
   "outputs": [],
   "source": [
    "# input_shape = (224, 224, 3) # \n",
    "input_shape = info.features[\"image\"].shape\n",
    "n_classes   = info.features[\"label\"].num_classes\n",
    "batch_size  = 1\n",
    "epochs      = 10"
   ]
  },
  {
   "cell_type": "code",
   "execution_count": null,
   "id": "a4611044",
   "metadata": {},
   "outputs": [],
   "source": [
    "def mapper(image, label):\n",
    "#     image = tf.image.resize(image, (input_shape[0], input_shape[1]))\n",
    "    image = image / 255\n",
    "    \n",
    "    return image, label"
   ]
  },
  {
   "cell_type": "code",
   "execution_count": null,
   "id": "68ed48e1",
   "metadata": {},
   "outputs": [],
   "source": [
    "gen_kwargs = dict(batch_size = batch_size, mapper = mapper)\n",
    "train, val = list(map(lambda x: DatasetGenerator(x, **gen_kwargs),\n",
    "                                                 split_dataset(cifar10[\"train\"], splits = (0.7, 0.3))))\n",
    "test = DatasetGenerator(cifar10[\"test\"], **gen_kwargs)"
   ]
  },
  {
   "cell_type": "markdown",
   "id": "29472521",
   "metadata": {},
   "source": [
    "#### Build Model"
   ]
  },
  {
   "cell_type": "code",
   "execution_count": null,
   "id": "1c15336a",
   "metadata": {},
   "outputs": [],
   "source": [
    "from tensorflow.keras.losses  import SparseCategoricalCrossentropy\n",
    "from tensorflow.keras.metrics import SparseCategoricalAccuracy\n",
    "\n",
    "from deeply.model.dam import DAM"
   ]
  },
  {
   "cell_type": "code",
   "execution_count": null,
   "id": "6a2ae03a",
   "metadata": {},
   "outputs": [],
   "source": [
    "dam = DAM(\n",
    "    input_shape = input_shape,\n",
    "    n_classes   = n_classes,\n",
    "    batch_norm  = False\n",
    ")"
   ]
  },
  {
   "cell_type": "code",
   "execution_count": null,
   "id": "59f4cb78",
   "metadata": {},
   "outputs": [],
   "source": [
    "dam.compile(\n",
    "    optimizer = \"adam\",\n",
    "    loss      = SparseCategoricalCrossentropy(),\n",
    "    metrics   = [SparseCategoricalAccuracy()]\n",
    ")"
   ]
  },
  {
   "cell_type": "code",
   "execution_count": null,
   "id": "7aef4120",
   "metadata": {},
   "outputs": [],
   "source": [
    "steps_per_epoch  = len(train) // batch_size\n",
    "validation_steps = len(val)   // batch_size"
   ]
  },
  {
   "cell_type": "code",
   "execution_count": null,
   "id": "d0ea727d",
   "metadata": {},
   "outputs": [],
   "source": [
    "norm = lambda x: x / (n_classes - 1)\n",
    "\n",
    "def meta_mapper(X, y):\n",
    "    X = norm(tf.argmax(X, axis = 1))\n",
    "    y = norm(y)\n",
    "    \n",
    "    return X, y"
   ]
  },
  {
   "cell_type": "code",
   "execution_count": null,
   "id": "f2487b98",
   "metadata": {},
   "outputs": [],
   "source": [
    "dam.fit(train, validation_data = val, verbose = 2, epochs = epochs,\n",
    "        steps_per_epoch  = steps_per_epoch,\n",
    "        validation_steps = validation_steps,\n",
    "        meta_mapper      = meta_mapper,\n",
    "        meta_epochs      = 50\n",
    ")"
   ]
  }
 ],
 "metadata": {
  "kernelspec": {
   "display_name": "Python 3",
   "language": "python",
   "name": "python3"
  },
  "language_info": {
   "codemirror_mode": {
    "name": "ipython",
    "version": 3
   },
   "file_extension": ".py",
   "mimetype": "text/x-python",
   "name": "python",
   "nbconvert_exporter": "python",
   "pygments_lexer": "ipython3",
   "version": "3.9.5"
  }
 },
 "nbformat": 4,
 "nbformat_minor": 5
}
