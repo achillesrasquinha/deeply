{
 "cells": [
  {
   "cell_type": "code",
   "execution_count": 1,
   "id": "cc70b635",
   "metadata": {},
   "outputs": [],
   "source": [
    "import deeply.datasets as dd\n",
    "from   deeply.datasets.util import split as split_dataset"
   ]
  },
  {
   "cell_type": "code",
   "execution_count": null,
   "id": "19e37af6",
   "metadata": {},
   "outputs": [],
   "source": [
    "cifar10 = dd.load(\"cifar10\")"
   ]
  },
  {
   "cell_type": "code",
   "execution_count": null,
   "id": "68ed48e1",
   "metadata": {},
   "outputs": [],
   "source": [
    "train, val = split_dataset(cifar10[\"train\"], splits = (0.7, 0.3))\n",
    "test       = cifar10[\"test\"]"
   ]
  },
  {
   "cell_type": "code",
   "execution_count": null,
   "id": "1c15336a",
   "metadata": {},
   "outputs": [],
   "source": [
    "from deeply.model.dam import DAM"
   ]
  },
  {
   "cell_type": "code",
   "execution_count": null,
   "id": "6a2ae03a",
   "metadata": {},
   "outputs": [],
   "source": [
    "dam = DAM()"
   ]
  },
  {
   "cell_type": "code",
   "execution_count": null,
   "id": "e3d1f3dc",
   "metadata": {},
   "outputs": [],
   "source": [
    "# dam.compile()"
   ]
  },
  {
   "cell_type": "code",
   "execution_count": null,
   "id": "ada71884",
   "metadata": {},
   "outputs": [],
   "source": [
    "# dam.fit(train, validation_data = val, verbose = 2)"
   ]
  }
 ],
 "metadata": {
  "kernelspec": {
   "display_name": "Python 3",
   "language": "python",
   "name": "python3"
  },
  "language_info": {
   "codemirror_mode": {
    "name": "ipython",
    "version": 3
   },
   "file_extension": ".py",
   "mimetype": "text/x-python",
   "name": "python",
   "nbconvert_exporter": "python",
   "pygments_lexer": "ipython3",
   "version": "3.9.5"
  }
 },
 "nbformat": 4,
 "nbformat_minor": 5
}
