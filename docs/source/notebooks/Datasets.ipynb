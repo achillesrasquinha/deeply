{
 "cells": [
  {
   "cell_type": "markdown",
   "id": "562a9f34",
   "metadata": {},
   "source": [
    "# Datasets"
   ]
  },
  {
   "cell_type": "code",
   "execution_count": null,
   "id": "5c986d1b",
   "metadata": {},
   "outputs": [],
   "source": [
    "import deeply.datasets as dd"
   ]
  },
  {
   "cell_type": "markdown",
   "id": "5e786ab0",
   "metadata": {},
   "source": [
    "#### Montgomery County X-Ray Dataset"
   ]
  },
  {
   "cell_type": "code",
   "execution_count": null,
   "id": "f14d59f6",
   "metadata": {},
   "outputs": [],
   "source": [
    "montgomery, info = dd.load(\"montgomery\", with_info = True)"
   ]
  },
  {
   "cell_type": "markdown",
   "id": "f538ad5e",
   "metadata": {},
   "source": [
    "#### Shenzhen Hospital X-Ray Dataset"
   ]
  },
  {
   "cell_type": "code",
   "execution_count": null,
   "id": "ba8a5a90",
   "metadata": {},
   "outputs": [],
   "source": [
    "shenzhen, info = dd.load(\"shenzhen\", with_info = True)"
   ]
  },
  {
   "cell_type": "code",
   "execution_count": null,
   "id": "f6a485f2",
   "metadata": {},
   "outputs": [],
   "source": []
  }
 ],
 "metadata": {
  "kernelspec": {
   "display_name": "Python 3",
   "language": "python",
   "name": "python3"
  },
  "language_info": {
   "codemirror_mode": {
    "name": "ipython",
    "version": 3
   },
   "file_extension": ".py",
   "mimetype": "text/x-python",
   "name": "python",
   "nbconvert_exporter": "python",
   "pygments_lexer": "ipython3",
   "version": "3.9.5"
  }
 },
 "nbformat": 4,
 "nbformat_minor": 5
}
