{
 "cells": [
  {
   "cell_type": "markdown",
   "id": "0e987b76",
   "metadata": {},
   "source": [
    "# 3D U-Net"
   ]
  },
  {
   "cell_type": "code",
   "execution_count": null,
   "id": "fd08486d",
   "metadata": {},
   "outputs": [],
   "source": [
    "%load_ext autoreload\n",
    "%autoreload"
   ]
  },
  {
   "cell_type": "code",
   "execution_count": null,
   "id": "a2ab1bc4",
   "metadata": {},
   "outputs": [],
   "source": [
    "from deeply.model.unet import UNet3D"
   ]
  },
  {
   "cell_type": "code",
   "execution_count": null,
   "id": "af240be4",
   "metadata": {},
   "outputs": [],
   "source": [
    "model = UNet3D()"
   ]
  },
  {
   "cell_type": "code",
   "execution_count": null,
   "id": "b2afa683",
   "metadata": {},
   "outputs": [],
   "source": []
  }
 ],
 "metadata": {
  "kernelspec": {
   "display_name": "Python 3",
   "language": "python",
   "name": "python3"
  },
  "language_info": {
   "codemirror_mode": {
    "name": "ipython",
    "version": 3
   },
   "file_extension": ".py",
   "mimetype": "text/x-python",
   "name": "python",
   "nbconvert_exporter": "python",
   "pygments_lexer": "ipython3",
   "version": "3.9.5"
  }
 },
 "nbformat": 4,
 "nbformat_minor": 5
}
